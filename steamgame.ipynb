{
 "cells": [
  {
   "cell_type": "markdown",
   "id": "6c77b51d-d877-40f9-970f-539fec3d7608",
   "metadata": {},
   "source": [
    "Danielle Clarice\n",
    "\n",
    "Among FPS games on Steam, which ones offer the highest player value, as measured by a combination of low price, high average playtime, and high review sentiment? (Excluding free games)"
   ]
  },
  {
   "cell_type": "code",
   "execution_count": 17,
   "id": "1e67e51a-ea8f-4e66-ba2f-ba8aaedeaea8",
   "metadata": {},
   "outputs": [],
   "source": [
    "import pandas as pd"
   ]
  },
  {
   "cell_type": "code",
   "execution_count": 18,
   "id": "bca1e3f8-1dda-471d-b8ca-bd92c465f10e",
   "metadata": {},
   "outputs": [],
   "source": [
    "df = pd.read_csv(r\"C:\\Users\\clari\\OneDrive\\School\\Data 219\\Steam_Store_Games\\steam.csv\")"
   ]
  },
  {
   "cell_type": "code",
   "execution_count": 19,
   "id": "0891e158-2e79-4b82-8d87-3bf3af3b0571",
   "metadata": {},
   "outputs": [],
   "source": [
    "df.isnull().sum()\n",
    "df = df.dropna(subset=['developer', 'publisher'])\n",
    "df.isnull().sum()\n",
    "df = df.drop(columns=['appid', 'english', 'required_age', 'achievements', 'owners'])"
   ]
  },
  {
   "cell_type": "code",
   "execution_count": 30,
   "id": "34575d5c-e571-476a-ae1e-629de3d70289",
   "metadata": {},
   "outputs": [],
   "source": [
    "df = df.dropna(subset=['release_date'])\n",
    "df['average_playtime'].dtypes\n",
    "df['review_average'] = (df['positive_ratings'] / (df['positive_ratings'] + df['negative_ratings'])) * 10\n"
   ]
  },
  {
   "cell_type": "markdown",
   "id": "dbd16b47-8077-4b37-9190-aa4c1c05cc75",
   "metadata": {},
   "source": [
    "Data Structure 1: Array"
   ]
  },
  {
   "cell_type": "code",
   "execution_count": 54,
   "id": "3d742fef-9d2d-420c-b2bb-e5d95cf44f61",
   "metadata": {},
   "outputs": [
    {
     "name": "stdout",
     "output_type": "stream",
     "text": [
      "{'name': 'Counter-Strike', 'release_date': '2000-11-01', 'developer': 'Valve', 'publisher': 'Valve', 'platforms': 'windows;mac;linux', 'categories': 'Multi-player;Online Multi-Player;Local Multi-Player;Valve Anti-Cheat enabled', 'genres': 'Action', 'steamspy_tags': 'Action;FPS;Multiplayer', 'positive_ratings': 124534, 'negative_ratings': 3339, 'average_playtime': 17612, 'median_playtime': 317, 'price': 7.19, 'review_average': 9.738881546534452}\n"
     ]
    }
   ],
   "source": [
    "game_list = df.to_dict('records')\n",
    "FPS_games = []\n",
    "\n",
    "for game in game_list:\n",
    "    if 'FPS' in game['steamspy_tags']:\n",
    "        FPS_games.append(game)\n",
    "\n",
    "best_game = None\n",
    "best_score = 0\n",
    "\n",
    "for game in FPS_games:\n",
    "    if game['price'] == 0:\n",
    "        continue\n",
    "    score = (game['average_playtime'] * game['review_average']) / game['price']\n",
    "    if score > best_score:\n",
    "        best_score = score\n",
    "        best_game = game\n",
    "print(best_game)"
   ]
  },
  {
   "cell_type": "markdown",
   "id": "72d124ed-d111-440f-a42e-a18b4dcfed32",
   "metadata": {},
   "source": [
    "Time complexity is O(n)\n",
    "\n",
    "for game in FPS_games:\n",
    "    if game['price'] == 0:\n",
    "        continue\n",
    "    score = (game['average_playtime'] * game['review_average']) / game['price']\n",
    "    if score > best_score:\n",
    "        best_score = score\n",
    "        best_game = game"
   ]
  },
  {
   "cell_type": "markdown",
   "id": "f0c67807-eb56-4e24-878e-0d255d0119d7",
   "metadata": {},
   "source": [
    "Data Structure 2: Binary Search Tree"
   ]
  },
  {
   "cell_type": "code",
   "execution_count": 53,
   "id": "9071478d-dcc6-44bf-a5a4-3751a6b019d4",
   "metadata": {},
   "outputs": [
    {
     "name": "stdout",
     "output_type": "stream",
     "text": [
      "Best Game (BST): Counter-Strike\n",
      "score: 23855.519026086895\n"
     ]
    }
   ],
   "source": [
    "class BSTNode:\n",
    "    def __init__(self, score, game):\n",
    "        self.score = score\n",
    "        self.game = game\n",
    "        self.left = None\n",
    "        self.right = None\n",
    "\n",
    "def insert(root, score, game):\n",
    "    if root is None:\n",
    "        return BSTNode(score, game)\n",
    "    if score < root.score:\n",
    "        root.left = insert(root.left, score, game)\n",
    "    else: \n",
    "        root.right = insert(root.right, score, game)\n",
    "    return root\n",
    "\n",
    "Games = None\n",
    "for game in FPS_games:\n",
    "    if game['price'] == 0:\n",
    "        continue\n",
    "    score = (game['average_playtime'] * game['review_average']) / game['price']\n",
    "    Games = insert(Games, score, game)\n",
    "    \n",
    "def find_max(root):\n",
    "    while root.right is not None:\n",
    "        root = root.right\n",
    "    return root\n",
    "\n",
    "best_game_node = find_max(Games)\n",
    "print(\"Best Game (BST):\", best_game_node.game['name'])\n",
    "print(\"score:\", best_game_node.score)"
   ]
  },
  {
   "cell_type": "markdown",
   "id": "ab9a9d3a-4e91-4747-92e1-46c664266530",
   "metadata": {},
   "source": [
    "Time complexity is O(n log n)\n"
   ]
  }
 ],
 "metadata": {
  "kernelspec": {
   "display_name": "Python 3 (ipykernel)",
   "language": "python",
   "name": "python3"
  },
  "language_info": {
   "codemirror_mode": {
    "name": "ipython",
    "version": 3
   },
   "file_extension": ".py",
   "mimetype": "text/x-python",
   "name": "python",
   "nbconvert_exporter": "python",
   "pygments_lexer": "ipython3",
   "version": "3.12.3"
  }
 },
 "nbformat": 4,
 "nbformat_minor": 5
}
